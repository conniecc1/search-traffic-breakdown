{
 "cells": [
  {
   "cell_type": "markdown",
   "id": "91d07215-5a9f-480a-b0b7-6237a5f2d05a",
   "metadata": {},
   "source": [
    "# Search Traffic Breakdown Metrics"
   ]
  },
  {
   "cell_type": "markdown",
   "id": "4f8b356f-67f5-4eae-9514-3bfeee01827b",
   "metadata": {},
   "source": [
    "[T301902](https://phabricator.wikimedia.org/T301902)"
   ]
  },
  {
   "cell_type": "markdown",
   "id": "ddf197e6-52ae-4ca0-bcd3-a820b10bfe9d",
   "metadata": {},
   "source": [
    "Pulling metrics for search traffic breakdown."
   ]
  },
  {
   "cell_type": "markdown",
   "id": "6f4d83f5-843c-4424-853d-a5f62234001a",
   "metadata": {},
   "source": [
    " - Total search volume per wiki: What is the total number of searches in the go bar?\n",
    " - Autocomplete only\n",
    " - Go bar-to-special:search volume per wiki:\n",
    "   - What is the amount/% of searches initiated in the go-bar that end up on the special page?\n",
    "   - What amount/percentage of queries that get redirected to special:search had no autocomplete suggestions?\n",
    "   - What amount/percentage of queries that have no autocomplete suggestions also have zero full text search \n",
    "   results (i.e. 0 autosuggest suggestions > 0 special:search results)? inverse: what amount/percentage of queries with no autocomplete suggestions do have results in special:search?\n",
    " - Click through rates for Autocomplete searches and special searches"
   ]
  },
  {
   "cell_type": "markdown",
   "id": "a8207a59-8a1f-4bd5-a410-46ebdf567dbb",
   "metadata": {},
   "source": [
    "Including the following emerging languages for the search experimentations:\n",
    "\n",
    "Priority 1:\n",
    "Arabic, Bengali*, Spanish, Portuguese*, Russian\n",
    "\n",
    "Priority 2: French*, Korean*, Indonesian, Ukrainian, Thai* ,Malaysian (?), Hindi, Tagalog, Afrikaans, Cantonese, Malayalam, Telugu"
   ]
  },
  {
   "cell_type": "markdown",
   "id": "c003622a-7f35-44aa-a3d6-093da9b212d4",
   "metadata": {},
   "source": [
    "We pulled a reduced version of search event data from `searchsatisfaction` table in another notebook, and store in a new table `cchen_search.search_events`. "
   ]
  },
  {
   "cell_type": "code",
   "execution_count": 1,
   "id": "4c905b44-f91c-461c-8040-a0410bd29ae3",
   "metadata": {},
   "outputs": [
    {
     "name": "stderr",
     "output_type": "stream",
     "text": [
      "You are using wmfdata v1.3.1, but v1.3.3 is available.\n",
      "\n",
      "To update, run `pip install --upgrade git+https://github.com/wikimedia/wmfdata-python.git@release --ignore-installed`.\n",
      "\n",
      "To see the changes, refer to https://github.com/wikimedia/wmfdata-python/blob/release/CHANGELOG.md\n"
     ]
    }
   ],
   "source": [
    "from datetime import date, timedelta\n",
    "import pandas as pd\n",
    "import numpy as np\n",
    "\n",
    "from wmfdata import hive, spark"
   ]
  },
  {
   "cell_type": "code",
   "execution_count": 2,
   "id": "0f1a0960-3c88-4700-95ef-a3901eee52cf",
   "metadata": {},
   "outputs": [],
   "source": [
    "last_month = date.today().replace(day=1) - timedelta(days=1)\n",
    "last_month_start = date.today().replace(day=1) - timedelta(days=last_month.day)\n",
    "\n",
    "end_date = last_month.strftime(\"%Y-%m-%d\")\n",
    "start_date = last_month_start.strftime(\"%Y-%m-%d\")"
   ]
  },
  {
   "cell_type": "code",
   "execution_count": 3,
   "id": "c0218e01-8f86-44ca-93a5-76fb98cbe4ca",
   "metadata": {},
   "outputs": [
    {
     "data": {
      "text/plain": [
       "'2022-08-31'"
      ]
     },
     "execution_count": 3,
     "metadata": {},
     "output_type": "execute_result"
    }
   ],
   "source": [
    "end_date"
   ]
  },
  {
   "cell_type": "code",
   "execution_count": 4,
   "id": "c14ade61-bc81-495d-af48-81a15bdb1128",
   "metadata": {},
   "outputs": [
    {
     "data": {
      "text/plain": [
       "'2022-08-01'"
      ]
     },
     "execution_count": 4,
     "metadata": {},
     "output_type": "execute_result"
    }
   ],
   "source": [
    "start_date"
   ]
  },
  {
   "cell_type": "markdown",
   "id": "3db51568-dd1c-4af9-880e-d8a5331be449",
   "metadata": {},
   "source": [
    "## Create Aggregation Tables"
   ]
  },
  {
   "cell_type": "code",
   "execution_count": 5,
   "id": "40d21675-7c84-4d6f-b9f7-175064f48874",
   "metadata": {},
   "outputs": [],
   "source": [
    "metrics_table = \"cchen_search.special_search_metrics\""
   ]
  },
  {
   "cell_type": "code",
   "execution_count": 6,
   "id": "96d3de07-1646-4418-9123-446bc557762c",
   "metadata": {},
   "outputs": [],
   "source": [
    "create_table_query = '''\n",
    "CREATE TABLE IF NOT EXISTS {table_name} (\n",
    "    log_date TIMESTAMP,\n",
    "    wiki STRING,\n",
    "    n_searches BIGINT,\n",
    "    n_special_searches BIGINT,\n",
    "    zero_auto_searches BIGINT,\n",
    "    zero_auto_special_searches BIGINT,\n",
    "    n_auto_clicks BIGINT,\n",
    "    n_special_clicks BIGINT\n",
    ")\n",
    "'''"
   ]
  },
  {
   "cell_type": "code",
   "execution_count": 7,
   "id": "33a7cb83-aa81-4116-a5d1-321ff73ff8ea",
   "metadata": {},
   "outputs": [],
   "source": [
    "hive.run(create_table_query.format(\n",
    "            table_name = metrics_table\n",
    "))"
   ]
  },
  {
   "cell_type": "markdown",
   "id": "7b79abc7-0676-44f6-9caf-e1010a1489c7",
   "metadata": {},
   "source": [
    "## Get Metrics"
   ]
  },
  {
   "cell_type": "code",
   "execution_count": 6,
   "id": "97b85770-9d36-45b1-ae4a-97811536cf49",
   "metadata": {},
   "outputs": [],
   "source": [
    "search_metrics_query = '''\n",
    "\n",
    "WITH search_events AS (\n",
    "    SELECT * FROM cchen_search.search_event\n",
    "    WHERE user_is_bot = false AND TO_DATE(dt) >= \"{start_date}\" AND TO_DATE(dt) <= \"{end_date}\"\n",
    "), \n",
    "gobar_search AS (\n",
    "    SELECT wiki, TO_DATE(dt) AS log_date, session_id, pageview_id\n",
    "    FROM search_events\n",
    "    WHERE action = \"searchResultPage\"\n",
    "    AND source = \"autocomplete\"\n",
    "    AND input_location LIKE \"%header%\"\n",
    "), \n",
    "full_text AS (\n",
    "    SELECT TO_DATE(dt) AS log_date, wiki, session_id, pageview_id, query, results_returned\n",
    "    FROM search_events\n",
    "    WHERE action = \"searchResultPage\"\n",
    "    AND source = \"fulltext\"\n",
    "), \n",
    "auto AS (\n",
    "    SELECT TO_DATE(dt) AS log_date, wiki, session_id, pageview_id, query, results_returned\n",
    "    FROM search_events\n",
    "    WHERE action = \"searchResultPage\"\n",
    "    AND source = \"autocomplete\"\n",
    "    AND input_location LIKE \"%header%\"\n",
    "), \n",
    "click AS (\n",
    "    SELECT TO_DATE(dt) AS log_date, wiki, session_id, pageview_id\n",
    "    FROM search_events\n",
    "    WHERE action = \"click\"\n",
    "    AND source = \"autocomplete\"\n",
    "    AND click_position = -1\n",
    "\n",
    "), \n",
    "visit AS (\n",
    "    SELECT TO_DATE(dt) AS log_date, wiki, session_id, query\n",
    "    FROM search_events\n",
    "    WHERE action = \"visitPage\"\n",
    "    AND source = \"fulltext\"\n",
    "    AND click_position >= 0\n",
    "), \n",
    "total_search AS (\n",
    "    SELECT wiki, log_date,COUNT(DISTINCT session_id, pageview_id) AS n_searches\n",
    "    FROM gobar_search\n",
    "    GROUP BY wiki, log_date\n",
    "), \n",
    "special_search AS (\n",
    "   SELECT a.log_date, \n",
    "       a.wiki,\n",
    "       COUNT(DISTINCT a.session_id, a.pageview_id) AS n_special_searches,\n",
    "       COUNT(DISTINCT(CASE WHEN a.results_returned = 0 THEN (a.session_id, a.pageview_id) END)) AS zero_auto_searches,\n",
    "       COUNT(DISTINCT(CASE WHEN a.results_returned = 0 AND f.results_returned IS NULL THEN (a.session_id, a.pageview_id) END)) AS zero_auto_special_searches\n",
    "   FROM full_text f \n",
    "     INNER JOIN auto a ON (f.session_id = a.session_id AND f.query = a.query AND f.log_date = a.log_date AND f.wiki = a.wiki)\n",
    "     INNER JOIN click c ON (a.session_id = c.session_id AND a.pageview_id = c.pageview_id AND a.log_date = c.log_date AND a.wiki = c.wiki)\n",
    "   WHERE f.pageview_id != a.pageview_id\n",
    "   GROUP BY a.log_date, a.wikI\n",
    "), \n",
    "gobar_visit AS (\n",
    "    SELECT \n",
    "        gs.log_date,\n",
    "        s.wiki,\n",
    "        COUNT(DISTINCT s.session_id, s.pageview_id) AS n_clicks\n",
    "    FROM search_events s\n",
    "    INNER JOIN gobar_search gs \n",
    "    ON (s.wiki = gs.wiki AND gs.log_date = TO_DATE(s.dt) AND s.session_id = gs.session_id AND s.pageview_id = gs.pageview_id)\n",
    "    AND action = \"click\"\n",
    "    AND source = \"autocomplete\"\n",
    "    AND s.click_position >= 0\n",
    "    GROUP BY gs.log_date,s.wiki\n",
    "),  \n",
    "special_visit AS (\n",
    "    SELECT\n",
    "      a.log_date, \n",
    "      a.wiki,\n",
    "      COUNT(DISTINCT a.session_id, a.pageview_id) AS n_special_clicks\n",
    "    FROM full_text f \n",
    "      INNER JOIN auto a ON (f.session_id = a.session_id AND f.query = a.query AND f.log_date = a.log_date AND f.wiki = a.wiki)\n",
    "      INNER JOIN click c ON (a.session_id = c.session_id AND a.pageview_id = c.pageview_id AND a.log_date = c.log_date AND a.wiki = c.wiki)\n",
    "      INNER JOIN visit v ON (f.session_id = v.session_id AND f.query = v.query AND f.log_date = v.log_date AND f.wiki = v.wiki)\n",
    "    WHERE f.pageview_id != a.pageview_id\n",
    "    GROUP BY a.log_date, a.wiki\n",
    ")\n",
    "\n",
    "INSERT INTO {table}\n",
    "SELECT\n",
    "    ts.log_date,\n",
    "    ts.wiki,\n",
    "    SUM(n_searches) AS n_searches,\n",
    "    SUM(n_special_searches) AS n_special_searches,\n",
    "    SUM(zero_auto_searches) AS zero_auto_searches,\n",
    "    SUM(zero_auto_special_searches) AS zero_auto_special_searches,\n",
    "    SUM(n_clicks) AS n_auto_clicks,\n",
    "    SUM(n_special_clicks) AS n_special_clicks\n",
    "FROM total_search ts\n",
    "  INNER JOIN special_search ss ON (ts.log_date = ss.log_date AND ts.wiki = ss.wiki)\n",
    "  INNER JOIN gobar_visit gc ON (gc.log_date = ss.log_date AND gc.wiki = ss.wiki)\n",
    "  INNER JOIN special_visit sc ON (gc.log_date = sc.log_date AND gc.wiki = sc.wiki)\n",
    "GROUP BY ts.log_date, ts.wiki\n",
    "'''"
   ]
  },
  {
   "cell_type": "code",
   "execution_count": null,
   "id": "f44b7a4c-295f-413d-b07d-de8876caf6e6",
   "metadata": {},
   "outputs": [],
   "source": [
    "hive.run(search_metrics_query.format(\n",
    "                            start_date = start_date,\n",
    "                            end_date = end_date,\n",
    "                            table = metrics_table\n",
    "                          ))"
   ]
  },
  {
   "cell_type": "code",
   "execution_count": null,
   "id": "f624e2e5-5245-40e7-b751-7d48742620d3",
   "metadata": {},
   "outputs": [],
   "source": []
  }
 ],
 "metadata": {
  "kernelspec": {
   "display_name": "Python 3 (ipykernel)",
   "language": "python",
   "name": "python3"
  },
  "language_info": {
   "codemirror_mode": {
    "name": "ipython",
    "version": 3
   },
   "file_extension": ".py",
   "mimetype": "text/x-python",
   "name": "python",
   "nbconvert_exporter": "python",
   "pygments_lexer": "ipython3",
   "version": "3.7.11"
  }
 },
 "nbformat": 4,
 "nbformat_minor": 5
}
