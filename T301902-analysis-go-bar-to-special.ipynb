{
 "cells": [
  {
   "cell_type": "markdown",
   "id": "91d07215-5a9f-480a-b0b7-6237a5f2d05a",
   "metadata": {},
   "source": [
    "# Analysis for Search Traffic Breakdown"
   ]
  },
  {
   "cell_type": "markdown",
   "id": "4f8b356f-67f5-4eae-9514-3bfeee01827b",
   "metadata": {},
   "source": [
    "[T301902](https://phabricator.wikimedia.org/T301902)"
   ]
  },
  {
   "cell_type": "markdown",
   "id": "ddf197e6-52ae-4ca0-bcd3-a820b10bfe9d",
   "metadata": {},
   "source": [
    "Search and Structured Data teams plan to work on improving special:search experience on emerging language wikis that generally have less content/articles than bigger wikipedias. \n",
    "In this anaylysis, we want to understand the breakdown of user search traffic on emerging language wikipedias, so we can understand the estimated scale of impact of planned features as part of special:search experimentations."
   ]
  },
  {
   "cell_type": "markdown",
   "id": "6f4d83f5-843c-4424-853d-a5f62234001a",
   "metadata": {},
   "source": [
    "Questions we want to answer:\n",
    " - Total search volume per wiki: What is the total number of searches in the go bar?\n",
    " - Autocomplete only\n",
    " - Go bar-to-special:search volume per wiki:\n",
    "   - What is the amount/% of searches initiated in the go-bar that end up on the special page?\n",
    "   - What amount/percentage of queries that get redirected to special:search had no autocomplete suggestions?\n",
    "   - What amount/percentage of queries that have no autocomplete suggestions also have zero full text search results (i.e. 0 autosuggest suggestions > 0 special:search results)? inverse: what amount/percentage of queries with no autocomplete suggestions do have results in special:search?"
   ]
  },
  {
   "cell_type": "markdown",
   "id": "a8207a59-8a1f-4bd5-a410-46ebdf567dbb",
   "metadata": {},
   "source": [
    "In this analysis, we are interested in the following emerging languages for the search experimentations:\n",
    "\n",
    "Priority 1:\n",
    "Arabic, Bengali*, Spanish, Portuguese*, Russian\n",
    "\n",
    "Priority 2: French*, Korean*, Indonesian, Ukrainian, Thai* ,Malaysian (?), Hindi, Tagalog, Afrikaans, Cantonese, Malayalam, Telugu"
   ]
  },
  {
   "cell_type": "markdown",
   "id": "c003622a-7f35-44aa-a3d6-093da9b212d4",
   "metadata": {},
   "source": [
    "We pulled a reduced version of search event data from `searchsatisfaction` table in another notebook, and store in a new table `cchen_search.search_events`. "
   ]
  },
  {
   "cell_type": "code",
   "execution_count": 1,
   "id": "4c905b44-f91c-461c-8040-a0410bd29ae3",
   "metadata": {},
   "outputs": [
    {
     "name": "stderr",
     "output_type": "stream",
     "text": [
      "You are using wmfdata v1.3.1, but v1.3.3 is available.\n",
      "\n",
      "To update, run `pip install --upgrade git+https://github.com/wikimedia/wmfdata-python.git@release --ignore-installed`.\n",
      "\n",
      "To see the changes, refer to https://github.com/wikimedia/wmfdata-python/blob/release/CHANGELOG.md\n"
     ]
    }
   ],
   "source": [
    "import datetime as dt\n",
    "import pandas as pd\n",
    "import numpy as np\n",
    "\n",
    "from wmfdata import hive, spark"
   ]
  },
  {
   "cell_type": "code",
   "execution_count": 7,
   "id": "6817c404-f203-48b4-ba6f-8801c6a93008",
   "metadata": {},
   "outputs": [],
   "source": [
    "start_date = dt.date(2022, 4, 3)\n",
    "end_date = dt.date(2022, 4, 10)"
   ]
  },
  {
   "cell_type": "markdown",
   "id": "168fdfaf-b805-4e0a-8d2e-ad46b4705d18",
   "metadata": {},
   "source": [
    "## Number of searches in the Go bar"
   ]
  },
  {
   "cell_type": "markdown",
   "id": "858091da-d8ec-4381-93e4-b388195809d6",
   "metadata": {},
   "source": [
    "Searches in the go bar have input_location in header navigator (instead of in content) and start with autocomplete searches. We count every distinct `searchSessionId` + `pageViewId` combination. An search session can consist of multiple searches as the user types out their query, and this collapses them into a single unit.\n"
   ]
  },
  {
   "cell_type": "code",
   "execution_count": 3,
   "id": "c17d5466-bb7d-4c2e-b8de-9304e5c0b203",
   "metadata": {},
   "outputs": [],
   "source": [
    "total_search_query = '''\n",
    "\n",
    "SELECT wiki,\n",
    "       TO_DATE(dt) AS log_date,\n",
    "       COUNT(DISTINCT session_id, pageview_id) AS n_searches\n",
    "FROM cchen_search.search_events\n",
    "WHERE user_is_bot = false\n",
    "AND action = \"searchResultPage\"\n",
    "AND source = \"autocomplete\"\n",
    "AND input_location LIKE \"%header%\"\n",
    "GROUP BY wiki, TO_DATE(dt)  \n",
    "\n",
    "'''"
   ]
  },
  {
   "cell_type": "code",
   "execution_count": 12,
   "id": "5692dbcf-3b64-4575-bd3c-4358fbfc689e",
   "metadata": {},
   "outputs": [
    {
     "name": "stderr",
     "output_type": "stream",
     "text": [
      "PySpark executors will use /usr/lib/anaconda-wmf/bin/python3.\n",
      "                                                                                \r"
     ]
    }
   ],
   "source": [
    "go_bar_searches_daily =  spark.run(total_search_query)"
   ]
  },
  {
   "cell_type": "code",
   "execution_count": 13,
   "id": "9b42bc08-94d7-4b14-b2fe-d11af27f60cf",
   "metadata": {},
   "outputs": [],
   "source": [
    "go_bar_searches_daily = go_bar_searches_daily.loc[(go_bar_searches_daily['log_date'] >= start_date) &  \n",
    "                                                  (go_bar_searches_daily['log_date'] <= end_date)]"
   ]
  },
  {
   "cell_type": "code",
   "execution_count": 15,
   "id": "a39d720e-a85b-4bfa-83a1-844c6129f718",
   "metadata": {},
   "outputs": [],
   "source": [
    "go_bar_searches = go_bar_searches_daily.groupby(['wiki']).sum().reset_index()"
   ]
  },
  {
   "cell_type": "code",
   "execution_count": 16,
   "id": "f6d12680-07eb-41ab-b265-7c85e8e8a59b",
   "metadata": {},
   "outputs": [
    {
     "data": {
      "text/html": [
       "<div>\n",
       "<style scoped>\n",
       "    .dataframe tbody tr th:only-of-type {\n",
       "        vertical-align: middle;\n",
       "    }\n",
       "\n",
       "    .dataframe tbody tr th {\n",
       "        vertical-align: top;\n",
       "    }\n",
       "\n",
       "    .dataframe thead th {\n",
       "        text-align: right;\n",
       "    }\n",
       "</style>\n",
       "<table border=\"1\" class=\"dataframe\">\n",
       "  <thead>\n",
       "    <tr style=\"text-align: right;\">\n",
       "      <th></th>\n",
       "      <th>wiki</th>\n",
       "      <th>n_searches</th>\n",
       "    </tr>\n",
       "  </thead>\n",
       "  <tbody>\n",
       "    <tr>\n",
       "      <th>0</th>\n",
       "      <td>arwiki</td>\n",
       "      <td>57338</td>\n",
       "    </tr>\n",
       "    <tr>\n",
       "      <th>1</th>\n",
       "      <td>bnwiki</td>\n",
       "      <td>7076</td>\n",
       "    </tr>\n",
       "    <tr>\n",
       "      <th>2</th>\n",
       "      <td>eswiki</td>\n",
       "      <td>831582</td>\n",
       "    </tr>\n",
       "    <tr>\n",
       "      <th>3</th>\n",
       "      <td>ptwiki</td>\n",
       "      <td>323991</td>\n",
       "    </tr>\n",
       "    <tr>\n",
       "      <th>4</th>\n",
       "      <td>ruwiki</td>\n",
       "      <td>1336483</td>\n",
       "    </tr>\n",
       "  </tbody>\n",
       "</table>\n",
       "</div>"
      ],
      "text/plain": [
       "     wiki  n_searches\n",
       "0  arwiki       57338\n",
       "1  bnwiki        7076\n",
       "2  eswiki      831582\n",
       "3  ptwiki      323991\n",
       "4  ruwiki     1336483"
      ]
     },
     "execution_count": 16,
     "metadata": {},
     "output_type": "execute_result"
    }
   ],
   "source": [
    "go_bar_searches"
   ]
  },
  {
   "cell_type": "markdown",
   "id": "98ade0f6-b1ba-4907-8040-f9168df8c5c8",
   "metadata": {
    "tags": []
   },
   "source": [
    "## Number of Go bar-to-special:search"
   ]
  },
  {
   "cell_type": "markdown",
   "id": "e11f278a-4960-4eaf-a0cb-d831a724d425",
   "metadata": {},
   "source": [
    "If users didn't find the result they are looking for or there's no exact article match in the go bar, they will click and then be redirected to the special search page. \n",
    "In this case, one Go bar-to-special:search consists of following events:\n",
    "1. Series of autocomplete searches start in Go bar with input location in header navigator;\n",
    "2. A click action has the same sessionid and pageview_id as the previous autocomplete searches;\n",
    "3. A fulltext search event has the same session id and search query as the last autocomplete search preceeding (or that happened temporally near) a fulltext search. And these two searches have different pageview ids.\n",
    "\n",
    "We find searches have these events, and count every distinct `searchSessionId` + `pageViewId` combination. "
   ]
  },
  {
   "cell_type": "code",
   "execution_count": 24,
   "id": "e310bb0f-053b-44f7-94b8-63aa38202c77",
   "metadata": {},
   "outputs": [],
   "source": [
    "special_search_query = '''\n",
    "\n",
    "WITH full_text AS (\n",
    "    SELECT TO_DATE(dt) AS log_date, wiki, session_id, pageview_id, query, results_returned\n",
    "    FROM cchen_search.search_events\n",
    "    WHERE user_is_bot = false\n",
    "    AND action = \"searchResultPage\"\n",
    "    AND source = \"fulltext\"\n",
    "), auto AS (\n",
    "    SELECT TO_DATE(dt) AS log_date, wiki, session_id, pageview_id, query, results_returned\n",
    "    FROM cchen_search.search_events\n",
    "    WHERE user_is_bot = false\n",
    "    AND action = \"searchResultPage\"\n",
    "    AND source = \"autocomplete\"\n",
    "    AND input_location LIKE \"%header%\"\n",
    "), click AS (\n",
    "    SELECT TO_DATE(dt) AS log_date, wiki, session_id, pageview_id, unique_id\n",
    "    FROM cchen_search.search_events\n",
    "    WHERE user_is_bot = false\n",
    "    AND action = \"click\"\n",
    "    AND source = \"autocomplete\"\n",
    ")\n",
    "\n",
    "SELECT a.log_date, \n",
    "       a.wiki,\n",
    "       COUNT(DISTINCT a.session_id, a.pageview_id) AS n_special_searches,\n",
    "       COUNT(DISTINCT(CASE WHEN a.results_returned = 0 THEN (a.session_id, a.pageview_id) END)) AS zero_auto_searches,\n",
    "       COUNT(DISTINCT(CASE WHEN a.results_returned = 0 AND f.results_returned IS NULL THEN (a.session_id, a.pageview_id) END)) AS zero_auto_special_searches\n",
    "FROM full_text f \n",
    "  LEFT JOIN auto a ON (f.session_id = a.session_id AND f.query = a.query AND f.log_date = a.log_date AND f.wiki = a.wiki)\n",
    "  LEFT JOIN click c ON (a.session_id = c.session_id AND a.pageview_id = c.pageview_id AND a.log_date = c.log_date AND a.wiki = c.wiki)\n",
    "WHERE c.unique_id IS NOT NULL\n",
    "AND f.pageview_id != a.pageview_id\n",
    "GROUP BY a.log_date, a.wiki\n",
    "\n",
    "'''"
   ]
  },
  {
   "cell_type": "code",
   "execution_count": 25,
   "id": "8bb8cfab-7956-4336-9847-3f15c819596d",
   "metadata": {},
   "outputs": [
    {
     "name": "stderr",
     "output_type": "stream",
     "text": [
      "PySpark executors will use /usr/lib/anaconda-wmf/bin/python3.\n",
      "                                                                                \r"
     ]
    }
   ],
   "source": [
    "spaecial_searches_daily =  spark.run(special_search_query)"
   ]
  },
  {
   "cell_type": "code",
   "execution_count": 26,
   "id": "d0f96262-aa9c-40cc-a9e6-94f8f9fbc4df",
   "metadata": {},
   "outputs": [],
   "source": [
    "spaecial_searches_daily = spaecial_searches_daily.loc[(spaecial_searches_daily['log_date'] >= start_date) &  \n",
    "                                                  (spaecial_searches_daily['log_date'] <= end_date)]"
   ]
  },
  {
   "cell_type": "code",
   "execution_count": 31,
   "id": "d9a2dc4a-1920-4aee-89d6-9319996c8f45",
   "metadata": {},
   "outputs": [],
   "source": [
    "spaecial_searches=spaecial_searches_daily.groupby(['wiki']).sum().reset_index()"
   ]
  },
  {
   "cell_type": "code",
   "execution_count": 33,
   "id": "b9e953e0-2310-41ea-90f0-645b5efcb2bc",
   "metadata": {},
   "outputs": [],
   "source": [
    "search_metrics = go_bar_searches.merge(spaecial_searches, on= 'wiki')"
   ]
  },
  {
   "cell_type": "code",
   "execution_count": 37,
   "id": "0f509a46-2252-4be5-93b3-71a501e3dab4",
   "metadata": {},
   "outputs": [],
   "source": [
    "search_metrics['special_pct'] = (search_metrics['n_special_searches'] / search_metrics['n_searches']) * 100"
   ]
  },
  {
   "cell_type": "code",
   "execution_count": 39,
   "id": "c28caf2a-7b08-40a4-875d-4cb7aacdf290",
   "metadata": {},
   "outputs": [
    {
     "data": {
      "text/html": [
       "<div>\n",
       "<style scoped>\n",
       "    .dataframe tbody tr th:only-of-type {\n",
       "        vertical-align: middle;\n",
       "    }\n",
       "\n",
       "    .dataframe tbody tr th {\n",
       "        vertical-align: top;\n",
       "    }\n",
       "\n",
       "    .dataframe thead th {\n",
       "        text-align: right;\n",
       "    }\n",
       "</style>\n",
       "<table border=\"1\" class=\"dataframe\">\n",
       "  <thead>\n",
       "    <tr style=\"text-align: right;\">\n",
       "      <th></th>\n",
       "      <th>wiki</th>\n",
       "      <th>n_special_searches</th>\n",
       "      <th>special_pct</th>\n",
       "    </tr>\n",
       "  </thead>\n",
       "  <tbody>\n",
       "    <tr>\n",
       "      <th>0</th>\n",
       "      <td>arwiki</td>\n",
       "      <td>20471</td>\n",
       "      <td>35.702327</td>\n",
       "    </tr>\n",
       "    <tr>\n",
       "      <th>1</th>\n",
       "      <td>bnwiki</td>\n",
       "      <td>2692</td>\n",
       "      <td>38.044093</td>\n",
       "    </tr>\n",
       "    <tr>\n",
       "      <th>2</th>\n",
       "      <td>eswiki</td>\n",
       "      <td>147765</td>\n",
       "      <td>17.769144</td>\n",
       "    </tr>\n",
       "    <tr>\n",
       "      <th>3</th>\n",
       "      <td>ptwiki</td>\n",
       "      <td>78914</td>\n",
       "      <td>24.356849</td>\n",
       "    </tr>\n",
       "    <tr>\n",
       "      <th>4</th>\n",
       "      <td>ruwiki</td>\n",
       "      <td>148760</td>\n",
       "      <td>11.130706</td>\n",
       "    </tr>\n",
       "  </tbody>\n",
       "</table>\n",
       "</div>"
      ],
      "text/plain": [
       "     wiki  n_special_searches  special_pct\n",
       "0  arwiki               20471    35.702327\n",
       "1  bnwiki                2692    38.044093\n",
       "2  eswiki              147765    17.769144\n",
       "3  ptwiki               78914    24.356849\n",
       "4  ruwiki              148760    11.130706"
      ]
     },
     "execution_count": 39,
     "metadata": {},
     "output_type": "execute_result"
    }
   ],
   "source": [
    "search_metrics.loc[:,['wiki','n_special_searches','special_pct']]"
   ]
  },
  {
   "cell_type": "markdown",
   "id": "e40adbe4-8b05-441f-8a9c-3401c4c19ed0",
   "metadata": {},
   "source": [
    "Number of searches that get redirected to special:search had no autocomplete suggestions: autocomplete searches that with `results_returned` = 0"
   ]
  },
  {
   "cell_type": "code",
   "execution_count": 40,
   "id": "51358363-7838-4b59-ac11-7093782d4ad3",
   "metadata": {},
   "outputs": [],
   "source": [
    "search_metrics['zero_auto_pct'] = (search_metrics['zero_auto_searches'] / search_metrics['n_special_searches']) * 100"
   ]
  },
  {
   "cell_type": "code",
   "execution_count": 41,
   "id": "a9e7c35b-f37d-4757-a9ca-8d1faa163434",
   "metadata": {},
   "outputs": [
    {
     "data": {
      "text/html": [
       "<div>\n",
       "<style scoped>\n",
       "    .dataframe tbody tr th:only-of-type {\n",
       "        vertical-align: middle;\n",
       "    }\n",
       "\n",
       "    .dataframe tbody tr th {\n",
       "        vertical-align: top;\n",
       "    }\n",
       "\n",
       "    .dataframe thead th {\n",
       "        text-align: right;\n",
       "    }\n",
       "</style>\n",
       "<table border=\"1\" class=\"dataframe\">\n",
       "  <thead>\n",
       "    <tr style=\"text-align: right;\">\n",
       "      <th></th>\n",
       "      <th>wiki</th>\n",
       "      <th>zero_auto_searches</th>\n",
       "      <th>zero_auto_pct</th>\n",
       "    </tr>\n",
       "  </thead>\n",
       "  <tbody>\n",
       "    <tr>\n",
       "      <th>0</th>\n",
       "      <td>arwiki</td>\n",
       "      <td>15615</td>\n",
       "      <td>76.278638</td>\n",
       "    </tr>\n",
       "    <tr>\n",
       "      <th>1</th>\n",
       "      <td>bnwiki</td>\n",
       "      <td>2196</td>\n",
       "      <td>81.575037</td>\n",
       "    </tr>\n",
       "    <tr>\n",
       "      <th>2</th>\n",
       "      <td>eswiki</td>\n",
       "      <td>107394</td>\n",
       "      <td>72.678916</td>\n",
       "    </tr>\n",
       "    <tr>\n",
       "      <th>3</th>\n",
       "      <td>ptwiki</td>\n",
       "      <td>61797</td>\n",
       "      <td>78.309299</td>\n",
       "    </tr>\n",
       "    <tr>\n",
       "      <th>4</th>\n",
       "      <td>ruwiki</td>\n",
       "      <td>103010</td>\n",
       "      <td>69.245765</td>\n",
       "    </tr>\n",
       "  </tbody>\n",
       "</table>\n",
       "</div>"
      ],
      "text/plain": [
       "     wiki  zero_auto_searches  zero_auto_pct\n",
       "0  arwiki               15615      76.278638\n",
       "1  bnwiki                2196      81.575037\n",
       "2  eswiki              107394      72.678916\n",
       "3  ptwiki               61797      78.309299\n",
       "4  ruwiki              103010      69.245765"
      ]
     },
     "execution_count": 41,
     "metadata": {},
     "output_type": "execute_result"
    }
   ],
   "source": [
    "search_metrics.loc[:,['wiki','zero_auto_searches','zero_auto_pct']]"
   ]
  },
  {
   "cell_type": "markdown",
   "id": "e52e9ab9-8253-4d00-997e-abd3964dcf37",
   "metadata": {},
   "source": [
    "Number of searches get redirected to special:searchs that have no autocomplete suggestions also have zero full text search results. "
   ]
  },
  {
   "cell_type": "code",
   "execution_count": 43,
   "id": "ab0c8310-cef5-42d0-84ce-65ef105983ce",
   "metadata": {},
   "outputs": [],
   "source": [
    "search_metrics['zero_auto_special_pct'] = (search_metrics['zero_auto_special_searches'] / search_metrics['n_special_searches']) * 100"
   ]
  },
  {
   "cell_type": "code",
   "execution_count": 44,
   "id": "78b7f00c-fc41-4d8e-bca9-f46894cfe5a1",
   "metadata": {},
   "outputs": [
    {
     "data": {
      "text/html": [
       "<div>\n",
       "<style scoped>\n",
       "    .dataframe tbody tr th:only-of-type {\n",
       "        vertical-align: middle;\n",
       "    }\n",
       "\n",
       "    .dataframe tbody tr th {\n",
       "        vertical-align: top;\n",
       "    }\n",
       "\n",
       "    .dataframe thead th {\n",
       "        text-align: right;\n",
       "    }\n",
       "</style>\n",
       "<table border=\"1\" class=\"dataframe\">\n",
       "  <thead>\n",
       "    <tr style=\"text-align: right;\">\n",
       "      <th></th>\n",
       "      <th>wiki</th>\n",
       "      <th>zero_auto_special_searches</th>\n",
       "      <th>zero_auto_special_pct</th>\n",
       "    </tr>\n",
       "  </thead>\n",
       "  <tbody>\n",
       "    <tr>\n",
       "      <th>0</th>\n",
       "      <td>arwiki</td>\n",
       "      <td>2153</td>\n",
       "      <td>10.517317</td>\n",
       "    </tr>\n",
       "    <tr>\n",
       "      <th>1</th>\n",
       "      <td>bnwiki</td>\n",
       "      <td>1014</td>\n",
       "      <td>37.667162</td>\n",
       "    </tr>\n",
       "    <tr>\n",
       "      <th>2</th>\n",
       "      <td>eswiki</td>\n",
       "      <td>10869</td>\n",
       "      <td>7.355598</td>\n",
       "    </tr>\n",
       "    <tr>\n",
       "      <th>3</th>\n",
       "      <td>ptwiki</td>\n",
       "      <td>7190</td>\n",
       "      <td>9.111184</td>\n",
       "    </tr>\n",
       "    <tr>\n",
       "      <th>4</th>\n",
       "      <td>ruwiki</td>\n",
       "      <td>15757</td>\n",
       "      <td>10.592229</td>\n",
       "    </tr>\n",
       "  </tbody>\n",
       "</table>\n",
       "</div>"
      ],
      "text/plain": [
       "     wiki  zero_auto_special_searches  zero_auto_special_pct\n",
       "0  arwiki                        2153              10.517317\n",
       "1  bnwiki                        1014              37.667162\n",
       "2  eswiki                       10869               7.355598\n",
       "3  ptwiki                        7190               9.111184\n",
       "4  ruwiki                       15757              10.592229"
      ]
     },
     "execution_count": 44,
     "metadata": {},
     "output_type": "execute_result"
    }
   ],
   "source": [
    "search_metrics.loc[:,['wiki','zero_auto_special_searches','zero_auto_special_pct']]"
   ]
  },
  {
   "cell_type": "markdown",
   "id": "3f6172e7-f52c-498d-884a-a44677af39a4",
   "metadata": {},
   "source": [
    "## Number of autocomplete only searches in the Go bar"
   ]
  },
  {
   "cell_type": "code",
   "execution_count": 45,
   "id": "014b6ed9-a923-4901-a67f-718968e744f6",
   "metadata": {},
   "outputs": [],
   "source": [
    "search_metrics['n_auto_searches'] = (search_metrics['n_searches'] -  search_metrics['n_special_searches']) "
   ]
  },
  {
   "cell_type": "code",
   "execution_count": 46,
   "id": "c7b77300-5f1f-4655-bbea-16bcc2472481",
   "metadata": {},
   "outputs": [],
   "source": [
    "search_metrics['auto_pct'] = (search_metrics['n_auto_searches'] / search_metrics['n_searches']) * 100"
   ]
  },
  {
   "cell_type": "code",
   "execution_count": 48,
   "id": "ec8c6d72-04b9-40cf-b1e4-ecf619aecaf2",
   "metadata": {},
   "outputs": [
    {
     "data": {
      "text/html": [
       "<div>\n",
       "<style scoped>\n",
       "    .dataframe tbody tr th:only-of-type {\n",
       "        vertical-align: middle;\n",
       "    }\n",
       "\n",
       "    .dataframe tbody tr th {\n",
       "        vertical-align: top;\n",
       "    }\n",
       "\n",
       "    .dataframe thead th {\n",
       "        text-align: right;\n",
       "    }\n",
       "</style>\n",
       "<table border=\"1\" class=\"dataframe\">\n",
       "  <thead>\n",
       "    <tr style=\"text-align: right;\">\n",
       "      <th></th>\n",
       "      <th>wiki</th>\n",
       "      <th>n_auto_searches</th>\n",
       "      <th>auto_pct</th>\n",
       "    </tr>\n",
       "  </thead>\n",
       "  <tbody>\n",
       "    <tr>\n",
       "      <th>0</th>\n",
       "      <td>arwiki</td>\n",
       "      <td>36867</td>\n",
       "      <td>64.297673</td>\n",
       "    </tr>\n",
       "    <tr>\n",
       "      <th>1</th>\n",
       "      <td>bnwiki</td>\n",
       "      <td>4384</td>\n",
       "      <td>61.955907</td>\n",
       "    </tr>\n",
       "    <tr>\n",
       "      <th>2</th>\n",
       "      <td>eswiki</td>\n",
       "      <td>683817</td>\n",
       "      <td>82.230856</td>\n",
       "    </tr>\n",
       "    <tr>\n",
       "      <th>3</th>\n",
       "      <td>ptwiki</td>\n",
       "      <td>245077</td>\n",
       "      <td>75.643151</td>\n",
       "    </tr>\n",
       "    <tr>\n",
       "      <th>4</th>\n",
       "      <td>ruwiki</td>\n",
       "      <td>1187723</td>\n",
       "      <td>88.869294</td>\n",
       "    </tr>\n",
       "  </tbody>\n",
       "</table>\n",
       "</div>"
      ],
      "text/plain": [
       "     wiki  n_auto_searches   auto_pct\n",
       "0  arwiki            36867  64.297673\n",
       "1  bnwiki             4384  61.955907\n",
       "2  eswiki           683817  82.230856\n",
       "3  ptwiki           245077  75.643151\n",
       "4  ruwiki          1187723  88.869294"
      ]
     },
     "execution_count": 48,
     "metadata": {},
     "output_type": "execute_result"
    }
   ],
   "source": [
    "search_metrics.loc[:,['wiki','n_auto_searches','auto_pct']]"
   ]
  }
 ],
 "metadata": {
  "kernelspec": {
   "display_name": "Python 3 (ipykernel)",
   "language": "python",
   "name": "python3"
  },
  "language_info": {
   "codemirror_mode": {
    "name": "ipython",
    "version": 3
   },
   "file_extension": ".py",
   "mimetype": "text/x-python",
   "name": "python",
   "nbconvert_exporter": "python",
   "pygments_lexer": "ipython3",
   "version": "3.7.11"
  }
 },
 "nbformat": 4,
 "nbformat_minor": 5
}
